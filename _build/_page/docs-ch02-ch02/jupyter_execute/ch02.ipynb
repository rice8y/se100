{
 "cells": [
  {
   "cell_type": "markdown",
   "metadata": {},
   "source": [
    "# 基本編2: ファイル処理\n",
    "## 21: テキストファイルの行数\n",
    "この[テキストファイル(wws2025cfp.txt)](https://ds4se100.github.io/basic/2.file-manipulation/data/wws2025cfp.txt)について, その行数を出力するプログラムを作りなさい."
   ]
  },
  {
   "cell_type": "markdown",
   "metadata": {},
   "source": [
    "`ex21.py`:\n",
    "\n",
    "```py\n",
    "import argparse\n",
    "\n",
    "def parse_args():\n",
    "    parser = argparse.ArgumentParser(description=\"Check the number of lines in the input file.\")\n",
    "    parser.add_argument(\"--file\", type=str, required=True, help=\"Path to the input file.\")\n",
    "    return parser.parse_args()\n",
    "\n",
    "def count_lines(file_path):\n",
    "    try:\n",
    "        with open(file_path, \"r\", encoding=\"utf-8\") as f:\n",
    "            return sum(1 for _ in f)\n",
    "    except FileNotFoundError:\n",
    "        print(f\"Error: File '{file_path}' not found.\")\n",
    "        return None\n",
    "        \n",
    "def main():\n",
    "    args = parse_args()\n",
    "    line_cnt = count_lines(args.file)\n",
    "    if line_cnt is not None:\n",
    "        print(f\"Number of lines: {line_cnt}\")\n",
    "\n",
    "if __name__ == \"__main__\":\n",
    "    main()\n",
    "```"
   ]
  },
  {
   "cell_type": "code",
   "execution_count": 1,
   "metadata": {},
   "outputs": [
    {
     "name": "stdout",
     "output_type": "stream",
     "text": [
      "Number of lines: 15\r\n"
     ]
    }
   ],
   "source": [
    "!python3 ex21.py --file wws2025cfp.txt"
   ]
  },
  {
   "cell_type": "markdown",
   "metadata": {},
   "source": []
  },
  {
   "cell_type": "markdown",
   "metadata": {},
   "source": [
    "## 22: テキストファイルを行番号付きで\n",
    "この[テキストファイル(wws2025cfp.txt)](https://ds4se100.github.io/basic/2.file-manipulation/data/wws2025cfp.txt)について, その内容を行番号付きで出力するプログラムを作りなさい."
   ]
  },
  {
   "cell_type": "markdown",
   "metadata": {},
   "source": [
    "`ex22.py`:\n",
    "\n",
    "```py\n",
    "import argparse\n",
    "\n",
    "def parse_args():\n",
    "    parser = argparse.ArgumentParser(description=\"Displays input file with line numbers.\")\n",
    "    parser.add_argument(\"--file\", type=str, required=True, help=\"Path to the input file.\")\n",
    "    return parser.parse_args()\n",
    "\n",
    "def print_lnum(file):\n",
    "    try:\n",
    "        with open(file, 'r') as f:\n",
    "            for i, line in enumerate(f, start=1):\n",
    "                print(f\"{i:>2}: {line}\", end='')\n",
    "    except FileNotFoundError:\n",
    "        print(f\"Error: File '{file}' not found.\")\n",
    "        return None\n",
    "        \n",
    "def main():\n",
    "    args = parse_args()\n",
    "    print_lnum(args.file)\n",
    "\n",
    "if __name__ == \"__main__\":\n",
    "    main()\n",
    "```"
   ]
  },
  {
   "cell_type": "code",
   "execution_count": 2,
   "metadata": {},
   "outputs": [
    {
     "name": "stdout",
     "output_type": "stream",
     "text": [
      " 1: 近年，産業界・学界を問わず「データサイエンス」が注目を集めている．\r\n",
      " 2: もともとは統計分析とデータマイニングを基盤として発展した分野であるが，\r\n",
      " 3: 最近では機械学習や AI 技術も活用したより高度なものになってきている．\r\n",
      " 4: ソフトウェア工学分野でもこれらを活用した研究や取り組みは多く，多岐に渡る．\r\n",
      " 5: これに関連して，研究者や技術者が学ぶべき内容も多様化してきており， 適切な教材に対するニーズは高まっている．\r\n",
      " 6: \r\n",
      " 7: 本セッションではソフトウェア工学分野におけるデータの分析や活用に関する基礎技術を学ぶための教材として\r\n",
      " 8: 「ソフトウェア工学のためのデータサイエンス 100 本ノック（仮称）」 を構築する共同作業の場を提供したい．\r\n",
      " 9: \r\n",
      "10: 教材の主なテーマとしては，バグ予測，品質評価・改善，見積り，リポジトリマイニング，\r\n",
      "11: その他データサイエンス・AIのソフトウェア開発・保守への応用などを想定しているがこれらに限定されるものではない．\r\n",
      "12: ワークショップでは教材の提案や共同開発，並びに内容のレビューに協力 いただける方の参加を期待している．\r\n",
      "13: 教材に対するニーズの検討や適切な難易度設定という観点から，初学者（学生の方を含む）の参加も歓迎する．\r\n",
      "14: なお，作業では GitHub を使用するため，申し込みの際には可能ならばご自身の GitHub アカウントをお知らせいただきたい． \r\n",
      "15: （議論のみ参加も認めるため，アカウントは必須ではありません．）"
     ]
    }
   ],
   "source": [
    "!python3 ex22.py --file wws2025cfp.txt"
   ]
  },
  {
   "cell_type": "markdown",
   "metadata": {},
   "source": [
    "## 23: CSVファイルのヘッダーと行数\n",
    "この[CSVファイル(カンマ区切りファイル)(iris.csv)](https://ds4se100.github.io/basic/2.file-manipulation/data/iris.csv)について,\n",
    "\n",
    "- データの行数\n",
    "- 1行目(ヘッダー)に書かれている項目数\n",
    "- 項目の一覧\n",
    "\n",
    "を出力するプログラムを作りなさい.\n",
    "ただし, データの行数にはヘッダー(1行目)は含めないものとする.  \n",
    "(※irisデータの配布元[https://archive.ics.uci.edu/dataset/53/iris](https://archive.ics.uci.edu/dataset/53/iris))"
   ]
  },
  {
   "cell_type": "code",
   "execution_count": 3,
   "metadata": {},
   "outputs": [],
   "source": [
    "# !wget https://ds4se100.github.io/basic/2.file-manipulation/data/iris.csv"
   ]
  },
  {
   "cell_type": "code",
   "execution_count": 4,
   "metadata": {},
   "outputs": [],
   "source": [
    "# !pip install pandas"
   ]
  },
  {
   "cell_type": "markdown",
   "metadata": {},
   "source": [
    "`ex23.py`:\n",
    "\n",
    "```py\n",
    "import pandas as pd\n",
    "import argparse\n",
    "\n",
    "def parse_args():\n",
    "    parser = argparse.ArgumentParser(description=\"Displays details of the input file.\")\n",
    "    parser.add_argument(\"--file\", type=str, required=True, help=\"Path to the input file.\")\n",
    "    return parser.parse_args()\n",
    "\n",
    "def print_info(file):\n",
    "    try:\n",
    "        df = pd.read_csv(file)\n",
    "        rows = df.shape[0]\n",
    "        cols = df.shape[1]\n",
    "        header = df.columns.tolist()\n",
    "        print(f\"Number of lines: {rows}\\nNumber of items: {cols}\")\n",
    "        for i, item in enumerate(header, start=1):\n",
    "            print(f\"Item {i}: {item}\")\n",
    "        \n",
    "    except FileNotFoundError:\n",
    "        print(f\"Error: File '{file}' not found.\")\n",
    "        return None\n",
    "        \n",
    "def main():\n",
    "    args = parse_args()\n",
    "    print_info(args.file)\n",
    "\n",
    "if __name__ == \"__main__\":\n",
    "    main()\n",
    "```"
   ]
  },
  {
   "cell_type": "code",
   "execution_count": 5,
   "metadata": {},
   "outputs": [
    {
     "name": "stdout",
     "output_type": "stream",
     "text": [
      "Number of lines: 150\r\n",
      "Number of items: 5\r\n",
      "Item 1: sepal_length\r\n",
      "Item 2: sepal_width\r\n",
      "Item 3: petal_length\r\n",
      "Item 4: petal_width\r\n",
      "Item 5: class\r\n"
     ]
    }
   ],
   "source": [
    "!python3 ex23.py --file iris.csv"
   ]
  },
  {
   "cell_type": "markdown",
   "metadata": {},
   "source": [
    "## 24: CSVファイルの読み書き（データの抽出を含む）\n",
    "この[CSVファイル(カンマ区切りファイル)(iris.csv)](https://ds4se100.github.io/basic/2.file-manipulation/data/iris.csv)に格納されているデータでは, classとして'Iris-setosa', 'Iris-versicolor', 及び'Iris-virginica'の3種類がある.  \n",
    "このデータをclassごとに分けて3つのCSVファイルへそれぞれ出力するプログラムを作りなさい. \n",
    "なお, 出力先のCSVファイル名は「クラス名」+「.csv」とし, それぞれのデータ列classは含めないものとする."
   ]
  },
  {
   "cell_type": "markdown",
   "metadata": {},
   "source": [
    "`ex24.py`:\n",
    "\n",
    "```py\n",
    "import pandas as pd\n",
    "import argparse\n",
    "\n",
    "def parse_args():\n",
    "    parser = argparse.ArgumentParser(description=\"Save iris dataset in CSV format for each class.\")\n",
    "    parser.add_argument(\"--file\", type=str, required=True, help=\"Path to the input file.\")\n",
    "    return parser.parse_args()\n",
    "\n",
    "def save_csv(file):\n",
    "    try:\n",
    "        df = pd.read_csv(file)\n",
    "        setosa_df = df[df[\"class\"] == \"Iris-setosa\"].drop(\"class\", axis=1)\n",
    "        versicolor_df = df[df[\"class\"] == \"Iris-versicolor\"].drop(\"class\", axis=1)\n",
    "        virginica_df = df[df[\"class\"] == \"Iris-virginica\"].drop(\"class\", axis=1)\n",
    "        \n",
    "        setosa_df.to_csv(\"Iris-setosa.csv\",index=False)\n",
    "        versicolor_df.to_csv(\"Iris-versicolor.csv\",index=False)\n",
    "        virginica_df.to_csv(\"Iris-virginica.csv\",index=False)\n",
    "\n",
    "    except FileNotFoundError:\n",
    "        print(f\"Error: File '{file}' not found.\")\n",
    "        return None\n",
    "        \n",
    "def main():\n",
    "    args = parse_args()\n",
    "    save_csv(args.file)\n",
    "\n",
    "if __name__ == \"__main__\":\n",
    "    main()\n",
    "```"
   ]
  },
  {
   "cell_type": "code",
   "execution_count": 6,
   "metadata": {},
   "outputs": [],
   "source": [
    "!python3 ex24.py --file iris.csv"
   ]
  },
  {
   "cell_type": "code",
   "execution_count": 7,
   "metadata": {},
   "outputs": [
    {
     "name": "stdout",
     "output_type": "stream",
     "text": [
      "Iris-setosa.csv  Iris-versicolor.csv  Iris-virginica.csv\r\n"
     ]
    }
   ],
   "source": [
    "!ls Iris*"
   ]
  },
  {
   "cell_type": "code",
   "execution_count": 8,
   "metadata": {},
   "outputs": [
    {
     "name": "stdout",
     "output_type": "stream",
     "text": [
      "sepal_length,sepal_width,petal_length,petal_width\r\n",
      "5.1,3.5,1.4,0.2\r\n",
      "4.9,3.0,1.4,0.2\r\n",
      "4.7,3.2,1.3,0.2\r\n",
      "4.6,3.1,1.5,0.2\r\n",
      "5.0,3.6,1.4,0.2\r\n",
      "5.4,3.9,1.7,0.4\r\n",
      "4.6,3.4,1.4,0.3\r\n",
      "5.0,3.4,1.5,0.2\r\n",
      "4.4,2.9,1.4,0.2\r\n"
     ]
    }
   ],
   "source": [
    "!cat Iris-setosa.csv | head -n 10"
   ]
  },
  {
   "cell_type": "markdown",
   "metadata": {},
   "source": [
    "## 25: JSONファイルの読み込み\n",
    "この[JSONファイル(iris.json)](https://ds4se100.github.io/basic/2.file-manipulation/data/iris.json)を読み込んで, 格納されているデータ数と各データの内容を出力するプログラムを作りなさい.  \n",
    "ただし, このJSONファイルでは150個のデータが配列(リスト)のかたちで与えられており, 各データは辞書型になっている."
   ]
  },
  {
   "cell_type": "code",
   "execution_count": 9,
   "metadata": {},
   "outputs": [],
   "source": [
    "# !wget https://ds4se100.github.io/basic/2.file-manipulation/data/iris.json"
   ]
  },
  {
   "cell_type": "markdown",
   "metadata": {},
   "source": [
    "`ex25.py`:\n",
    "\n",
    "```py\n",
    "import pandas as pd\n",
    "import argparse\n",
    "\n",
    "def parse_args():\n",
    "    parser = argparse.ArgumentParser(description=\"Displays the JSON file.\")\n",
    "    parser.add_argument(\"--file\", type=str, required=True, help=\"Path to the input file.\")\n",
    "    return parser.parse_args()\n",
    "\n",
    "def print_json(file):\n",
    "    try:\n",
    "        df = pd.read_json(file)\n",
    "        rows = df.shape[0]\n",
    "        print(f\"Number of lines: {rows}\")\n",
    "        print(\"\\nData:\")\n",
    "        print(df.to_string(index=False))\n",
    "\n",
    "    except FileNotFoundError:\n",
    "        print(f\"Error: File '{file}' not found.\")\n",
    "        return None\n",
    "        \n",
    "def main():\n",
    "    args = parse_args()\n",
    "    print_json(args.file)\n",
    "\n",
    "if __name__ == \"__main__\":\n",
    "    main()\n",
    "```"
   ]
  },
  {
   "cell_type": "code",
   "execution_count": 10,
   "metadata": {},
   "outputs": [
    {
     "name": "stdout",
     "output_type": "stream",
     "text": [
      "Number of lines: 150\r\n",
      "\r\n",
      "Data:\r\n",
      " sepal_length  sepal_width  petal_length  petal_width           class\r\n",
      "          5.1          3.5           1.4          0.2     Iris-setosa\r\n",
      "          4.9          3.0           1.4          0.2     Iris-setosa\r\n",
      "          4.7          3.2           1.3          0.2     Iris-setosa\r\n",
      "          4.6          3.1           1.5          0.2     Iris-setosa\r\n",
      "          5.0          3.6           1.4          0.2     Iris-setosa\r\n",
      "          5.4          3.9           1.7          0.4     Iris-setosa\r\n",
      "          4.6          3.4           1.4          0.3     Iris-setosa\r\n",
      "          5.0          3.4           1.5          0.2     Iris-setosa\r\n",
      "          4.4          2.9           1.4          0.2     Iris-setosa\r\n",
      "          4.9          3.1           1.5          0.1     Iris-setosa\r\n",
      "          5.4          3.7           1.5          0.2     Iris-setosa\r\n",
      "          4.8          3.4           1.6          0.2     Iris-setosa\r\n",
      "          4.8          3.0           1.4          0.1     Iris-setosa\r\n",
      "          4.3          3.0           1.1          0.1     Iris-setosa\r\n",
      "          5.8          4.0           1.2          0.2     Iris-setosa\r\n",
      "          5.7          4.4           1.5          0.4     Iris-setosa\r\n",
      "          5.4          3.9           1.3          0.4     Iris-setosa\r\n",
      "          5.1          3.5           1.4          0.3     Iris-setosa\r\n",
      "          5.7          3.8           1.7          0.3     Iris-setosa\r\n",
      "          5.1          3.8           1.5          0.3     Iris-setosa\r\n",
      "          5.4          3.4           1.7          0.2     Iris-setosa\r\n",
      "          5.1          3.7           1.5          0.4     Iris-setosa\r\n",
      "          4.6          3.6           1.0          0.2     Iris-setosa\r\n",
      "          5.1          3.3           1.7          0.5     Iris-setosa\r\n",
      "          4.8          3.4           1.9          0.2     Iris-setosa\r\n",
      "          5.0          3.0           1.6          0.2     Iris-setosa\r\n",
      "          5.0          3.4           1.6          0.4     Iris-setosa\r\n",
      "          5.2          3.5           1.5          0.2     Iris-setosa\r\n",
      "          5.2          3.4           1.4          0.2     Iris-setosa\r\n",
      "          4.7          3.2           1.6          0.2     Iris-setosa\r\n",
      "          4.8          3.1           1.6          0.2     Iris-setosa\r\n",
      "          5.4          3.4           1.5          0.4     Iris-setosa\r\n",
      "          5.2          4.1           1.5          0.1     Iris-setosa\r\n",
      "          5.5          4.2           1.4          0.2     Iris-setosa\r\n",
      "          4.9          3.1           1.5          0.1     Iris-setosa\r\n",
      "          5.0          3.2           1.2          0.2     Iris-setosa\r\n",
      "          5.5          3.5           1.3          0.2     Iris-setosa\r\n",
      "          4.9          3.1           1.5          0.1     Iris-setosa\r\n",
      "          4.4          3.0           1.3          0.2     Iris-setosa\r\n",
      "          5.1          3.4           1.5          0.2     Iris-setosa\r\n",
      "          5.0          3.5           1.3          0.3     Iris-setosa\r\n",
      "          4.5          2.3           1.3          0.3     Iris-setosa\r\n",
      "          4.4          3.2           1.3          0.2     Iris-setosa\r\n",
      "          5.0          3.5           1.6          0.6     Iris-setosa\r\n",
      "          5.1          3.8           1.9          0.4     Iris-setosa\r\n",
      "          4.8          3.0           1.4          0.3     Iris-setosa\r\n",
      "          5.1          3.8           1.6          0.2     Iris-setosa\r\n",
      "          4.6          3.2           1.4          0.2     Iris-setosa\r\n",
      "          5.3          3.7           1.5          0.2     Iris-setosa\r\n",
      "          5.0          3.3           1.4          0.2     Iris-setosa\r\n",
      "          7.0          3.2           4.7          1.4 Iris-versicolor\r\n",
      "          6.4          3.2           4.5          1.5 Iris-versicolor\r\n",
      "          6.9          3.1           4.9          1.5 Iris-versicolor\r\n",
      "          5.5          2.3           4.0          1.3 Iris-versicolor\r\n",
      "          6.5          2.8           4.6          1.5 Iris-versicolor\r\n",
      "          5.7          2.8           4.5          1.3 Iris-versicolor\r\n",
      "          6.3          3.3           4.7          1.6 Iris-versicolor\r\n",
      "          4.9          2.4           3.3          1.0 Iris-versicolor\r\n",
      "          6.6          2.9           4.6          1.3 Iris-versicolor\r\n",
      "          5.2          2.7           3.9          1.4 Iris-versicolor\r\n",
      "          5.0          2.0           3.5          1.0 Iris-versicolor\r\n",
      "          5.9          3.0           4.2          1.5 Iris-versicolor\r\n",
      "          6.0          2.2           4.0          1.0 Iris-versicolor\r\n",
      "          6.1          2.9           4.7          1.4 Iris-versicolor\r\n",
      "          5.6          2.9           3.6          1.3 Iris-versicolor\r\n",
      "          6.7          3.1           4.4          1.4 Iris-versicolor\r\n",
      "          5.6          3.0           4.5          1.5 Iris-versicolor\r\n",
      "          5.8          2.7           4.1          1.0 Iris-versicolor\r\n",
      "          6.2          2.2           4.5          1.5 Iris-versicolor\r\n",
      "          5.6          2.5           3.9          1.1 Iris-versicolor\r\n",
      "          5.9          3.2           4.8          1.8 Iris-versicolor\r\n",
      "          6.1          2.8           4.0          1.3 Iris-versicolor\r\n",
      "          6.3          2.5           4.9          1.5 Iris-versicolor\r\n",
      "          6.1          2.8           4.7          1.2 Iris-versicolor\r\n",
      "          6.4          2.9           4.3          1.3 Iris-versicolor\r\n",
      "          6.6          3.0           4.4          1.4 Iris-versicolor\r\n",
      "          6.8          2.8           4.8          1.4 Iris-versicolor\r\n",
      "          6.7          3.0           5.0          1.7 Iris-versicolor\r\n",
      "          6.0          2.9           4.5          1.5 Iris-versicolor\r\n",
      "          5.7          2.6           3.5          1.0 Iris-versicolor\r\n",
      "          5.5          2.4           3.8          1.1 Iris-versicolor\r\n",
      "          5.5          2.4           3.7          1.0 Iris-versicolor\r\n",
      "          5.8          2.7           3.9          1.2 Iris-versicolor\r\n",
      "          6.0          2.7           5.1          1.6 Iris-versicolor\r\n",
      "          5.4          3.0           4.5          1.5 Iris-versicolor\r\n",
      "          6.0          3.4           4.5          1.6 Iris-versicolor\r\n",
      "          6.7          3.1           4.7          1.5 Iris-versicolor\r\n",
      "          6.3          2.3           4.4          1.3 Iris-versicolor\r\n",
      "          5.6          3.0           4.1          1.3 Iris-versicolor\r\n",
      "          5.5          2.5           4.0          1.3 Iris-versicolor\r\n",
      "          5.5          2.6           4.4          1.2 Iris-versicolor\r\n",
      "          6.1          3.0           4.6          1.4 Iris-versicolor\r\n",
      "          5.8          2.6           4.0          1.2 Iris-versicolor\r\n",
      "          5.0          2.3           3.3          1.0 Iris-versicolor\r\n",
      "          5.6          2.7           4.2          1.3 Iris-versicolor\r\n",
      "          5.7          3.0           4.2          1.2 Iris-versicolor\r\n",
      "          5.7          2.9           4.2          1.3 Iris-versicolor\r\n",
      "          6.2          2.9           4.3          1.3 Iris-versicolor\r\n",
      "          5.1          2.5           3.0          1.1 Iris-versicolor\r\n",
      "          5.7          2.8           4.1          1.3 Iris-versicolor\r\n",
      "          6.3          3.3           6.0          2.5  Iris-virginica\r\n",
      "          5.8          2.7           5.1          1.9  Iris-virginica\r\n",
      "          7.1          3.0           5.9          2.1  Iris-virginica\r\n",
      "          6.3          2.9           5.6          1.8  Iris-virginica\r\n",
      "          6.5          3.0           5.8          2.2  Iris-virginica\r\n",
      "          7.6          3.0           6.6          2.1  Iris-virginica\r\n",
      "          4.9          2.5           4.5          1.7  Iris-virginica\r\n",
      "          7.3          2.9           6.3          1.8  Iris-virginica\r\n",
      "          6.7          2.5           5.8          1.8  Iris-virginica\r\n",
      "          7.2          3.6           6.1          2.5  Iris-virginica\r\n",
      "          6.5          3.2           5.1          2.0  Iris-virginica\r\n",
      "          6.4          2.7           5.3          1.9  Iris-virginica\r\n",
      "          6.8          3.0           5.5          2.1  Iris-virginica\r\n",
      "          5.7          2.5           5.0          2.0  Iris-virginica\r\n",
      "          5.8          2.8           5.1          2.4  Iris-virginica\r\n",
      "          6.4          3.2           5.3          2.3  Iris-virginica\r\n",
      "          6.5          3.0           5.5          1.8  Iris-virginica\r\n",
      "          7.7          3.8           6.7          2.2  Iris-virginica\r\n",
      "          7.7          2.6           6.9          2.3  Iris-virginica\r\n",
      "          6.0          2.2           5.0          1.5  Iris-virginica\r\n",
      "          6.9          3.2           5.7          2.3  Iris-virginica\r\n",
      "          5.6          2.8           4.9          2.0  Iris-virginica\r\n",
      "          7.7          2.8           6.7          2.0  Iris-virginica\r\n",
      "          6.3          2.7           4.9          1.8  Iris-virginica\r\n",
      "          6.7          3.3           5.7          2.1  Iris-virginica\r\n",
      "          7.2          3.2           6.0          1.8  Iris-virginica\r\n",
      "          6.2          2.8           4.8          1.8  Iris-virginica\r\n",
      "          6.1          3.0           4.9          1.8  Iris-virginica\r\n",
      "          6.4          2.8           5.6          2.1  Iris-virginica\r\n",
      "          7.2          3.0           5.8          1.6  Iris-virginica\r\n",
      "          7.4          2.8           6.1          1.9  Iris-virginica\r\n",
      "          7.9          3.8           6.4          2.0  Iris-virginica\r\n",
      "          6.4          2.8           5.6          2.2  Iris-virginica\r\n",
      "          6.3          2.8           5.1          1.5  Iris-virginica\r\n",
      "          6.1          2.6           5.6          1.4  Iris-virginica\r\n",
      "          7.7          3.0           6.1          2.3  Iris-virginica\r\n",
      "          6.3          3.4           5.6          2.4  Iris-virginica\r\n",
      "          6.4          3.1           5.5          1.8  Iris-virginica\r\n",
      "          6.0          3.0           4.8          1.8  Iris-virginica\r\n",
      "          6.9          3.1           5.4          2.1  Iris-virginica\r\n",
      "          6.7          3.1           5.6          2.4  Iris-virginica\r\n",
      "          6.9          3.1           5.1          2.3  Iris-virginica\r\n",
      "          5.8          2.7           5.1          1.9  Iris-virginica\r\n",
      "          6.8          3.2           5.9          2.3  Iris-virginica\r\n",
      "          6.7          3.3           5.7          2.5  Iris-virginica\r\n",
      "          6.7          3.0           5.2          2.3  Iris-virginica\r\n",
      "          6.3          2.5           5.0          1.9  Iris-virginica\r\n",
      "          6.5          3.0           5.2          2.0  Iris-virginica\r\n",
      "          6.2          3.4           5.4          2.3  Iris-virginica\r\n",
      "          5.9          3.0           5.1          1.8  Iris-virginica\r\n"
     ]
    }
   ],
   "source": [
    "!python3 ex25.py --file iris.json"
   ]
  },
  {
   "cell_type": "markdown",
   "metadata": {},
   "source": []
  }
 ],
 "metadata": {
  "kernelspec": {
   "display_name": "venv",
   "language": "python",
   "name": "python3"
  },
  "language_info": {
   "codemirror_mode": {
    "name": "ipython",
    "version": 3
   },
   "file_extension": ".py",
   "mimetype": "text/x-python",
   "name": "python",
   "nbconvert_exporter": "python",
   "pygments_lexer": "ipython3",
   "version": "3.12.3"
  }
 },
 "nbformat": 4,
 "nbformat_minor": 2
}