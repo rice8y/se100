{
 "cells": [
  {
   "cell_type": "markdown",
   "metadata": {},
   "source": [
    "# 基本編4: 仮想環境(Python)\n",
    "## 41. 特定versionのpythonの環境を作る\n",
    "特定versionのpython環境を作成しなさい. また, それとは異なるversionのpython環境を作成しなさい."
   ]
  },
  {
   "cell_type": "code",
   "execution_count": 1,
   "metadata": {},
   "outputs": [
    {
     "name": "stdout",
     "output_type": "stream",
     "text": [
      "Using CPython 3.12.3 interpreter at: \u001b[36m/usr/bin/python3.12\u001b[39m\n",
      "Creating virtual environment at: \u001b[36mpy-3.12\u001b[39m\n",
      "Activate with: \u001b[32msource py-3.12/bin/activate\u001b[39m\n",
      "Python 3.12.3\n"
     ]
    }
   ],
   "source": [
    "!uv venv py-3.12 --python 3.12\n",
    "!. py-3.12/bin/activate && python --version"
   ]
  },
  {
   "cell_type": "code",
   "execution_count": 3,
   "metadata": {},
   "outputs": [
    {
     "name": "stdout",
     "output_type": "stream",
     "text": [
      "Using CPython \u001b[36m3.13.2\u001b[39m\n",
      "Creating virtual environment at: \u001b[36mpy-3.13\u001b[39m\n",
      "Activate with: \u001b[32msource py-3.13/bin/activate\u001b[39m\n"
     ]
    },
    {
     "name": "stdout",
     "output_type": "stream",
     "text": [
      "Python 3.13.2\n"
     ]
    }
   ],
   "source": [
    "!uv venv py-3.13 --python 3.13\n",
    "!. py-3.13/bin/activate && python --version"
   ]
  },
  {
   "cell_type": "markdown",
   "metadata": {},
   "source": [
    "## 42. 特定バージョンのライブラリをインストール\n",
    "最新版ではない特定バージョンのpythonライブラリをインストールして, そのバージョンがインストールされたことを確認しなさい. (発展: githubで公開されているpythonライブラリの特定コミット時点のものをインストールしなさい. 例: [https://github.com/tweepy/tweepy](https://github.com/tweepy/tweepy))"
   ]
  },
  {
   "cell_type": "code",
   "execution_count": 23,
   "metadata": {},
   "outputs": [
    {
     "name": "stdout",
     "output_type": "stream",
     "text": [
      "\u001b[33mWARNING: pip index is currently an experimental command. It may be removed/changed in a future release without prior warning.\u001b[0m\u001b[33m\n",
      "\u001b[0mnvitop (1.4.2)\n",
      "Available versions: 1.4.2, 1.4.1, 1.4.0, 1.3.2, 1.3.1, 1.3.0, 1.2.0, 1.1.2, 1.1.1, 1.0.0, 0.11.0, 0.10.2, 0.10.1, 0.10.0, 0.9.0\n",
      "  INSTALLED: 1.4.0\n",
      "  LATEST:    1.4.2\n"
     ]
    }
   ],
   "source": [
    "!pip index versions nvitop"
   ]
  },
  {
   "cell_type": "code",
   "execution_count": 11,
   "metadata": {},
   "outputs": [
    {
     "name": "stdout",
     "output_type": "stream",
     "text": [
      "Requirement already satisfied: termcolor>=1.0.0 in /home/yoneyama/de4se/venv/lib/python3.12/site-packages (from nvitop==1.4.0) (2.5.0)\n"
     ]
    }
   ],
   "source": [
    "!pip install nvitop==1.4.0"
   ]
  },
  {
   "cell_type": "code",
   "execution_count": 24,
   "metadata": {},
   "outputs": [
    {
     "name": "stdout",
     "output_type": "stream",
     "text": [
      "nvitop 1.4.0\n"
     ]
    }
   ],
   "source": [
    "!nvitop --version"
   ]
  },
  {
   "cell_type": "code",
   "execution_count": 7,
   "metadata": {},
   "outputs": [
    {
     "name": "stdout",
     "output_type": "stream",
     "text": [
      "Collecting git+https://github.com/XuehaiPan/nvitop.git@ec53de75b4579c319eb6e6b5c1e906d5cb90b561\n",
      "  Cloning https://github.com/XuehaiPan/nvitop.git (to revision ec53de75b4579c319eb6e6b5c1e906d5cb90b561) to /tmp/pip-req-build-sne30q20\n",
      "  Running command git clone --filter=blob:none --quiet https://github.com/XuehaiPan/nvitop.git /tmp/pip-req-build-sne30q20\n",
      "  Running command git rev-parse -q --verify 'sha^ec53de75b4579c319eb6e6b5c1e906d5cb90b561'\n",
      "  Running command git fetch -q https://github.com/XuehaiPan/nvitop.git ec53de75b4579c319eb6e6b5c1e906d5cb90b561\n",
      "  Running command git checkout -q ec53de75b4579c319eb6e6b5c1e906d5cb90b561\n",
      "  Resolved https://github.com/XuehaiPan/nvitop.git to commit ec53de75b4579c319eb6e6b5c1e906d5cb90b561\n",
      "  Installing build dependencies ... \u001b[?25ldone\n",
      "\u001b[?25h  Getting requirements to build wheel ... \u001b[?25ldone\n",
      "\u001b[?25h  Preparing metadata (pyproject.toml) ... \u001b[?25ldone\n",
      "\u001b[?25hCollecting nvidia-ml-py<12.536.0a0,>=11.450.51 (from nvitop==1.2.0)\n",
      "  Using cached nvidia_ml_py-12.535.161-py3-none-any.whl.metadata (8.6 kB)\n",
      "Requirement already satisfied: psutil>=5.6.6 in /home/yoneyama/de4se/venv/lib/python3.12/site-packages (from nvitop==1.2.0) (6.1.1)\n",
      "Requirement already satisfied: cachetools>=1.0.1 in /home/yoneyama/de4se/venv/lib/python3.12/site-packages (from nvitop==1.2.0) (5.5.1)\n",
      "Requirement already satisfied: termcolor>=1.0.0 in /home/yoneyama/de4se/venv/lib/python3.12/site-packages (from nvitop==1.2.0) (2.5.0)\n",
      "Using cached nvidia_ml_py-12.535.161-py3-none-any.whl (37 kB)\n",
      "Building wheels for collected packages: nvitop\n",
      "  Building wheel for nvitop (pyproject.toml) ... \u001b[?25ldone\n",
      "\u001b[?25h  Created wheel for nvitop: filename=nvitop-1.2.0-py3-none-any.whl size=209903 sha256=a429c11e1d610268fd5eec1e7ed56a8d32a58cd0de56add11e9cf9ed94cac1a7\n",
      "  Stored in directory: /home/yoneyama/.cache/pip/wheels/d0/b6/54/17e1b83d81f16cc149f5cc527d4da1290f528bf7c3becab9cd\n",
      "Successfully built nvitop\n",
      "Installing collected packages: nvidia-ml-py, nvitop\n",
      "  Attempting uninstall: nvidia-ml-py\n",
      "    Found existing installation: nvidia-ml-py 12.560.30\n",
      "    Uninstalling nvidia-ml-py-12.560.30:\n",
      "      Successfully uninstalled nvidia-ml-py-12.560.30\n",
      "  Attempting uninstall: nvitop\n",
      "    Found existing installation: nvitop 1.4.0\n",
      "    Uninstalling nvitop-1.4.0:\n",
      "      Successfully uninstalled nvitop-1.4.0\n",
      "Successfully installed nvidia-ml-py-12.535.161 nvitop-1.2.0\n"
     ]
    }
   ],
   "source": [
    "!pip install git+https://github.com/XuehaiPan/nvitop.git@ec53de75b4579c319eb6e6b5c1e906d5cb90b561"
   ]
  },
  {
   "cell_type": "code",
   "execution_count": 8,
   "metadata": {},
   "outputs": [
    {
     "name": "stdout",
     "output_type": "stream",
     "text": [
      "nvitop 1.2.0\n"
     ]
    }
   ],
   "source": [
    "!nvitop --version"
   ]
  }
 ],
 "metadata": {
  "kernelspec": {
   "display_name": "venv",
   "language": "python",
   "name": "python3"
  },
  "language_info": {
   "codemirror_mode": {
    "name": "ipython",
    "version": 3
   },
   "file_extension": ".py",
   "mimetype": "text/x-python",
   "name": "python",
   "nbconvert_exporter": "python",
   "pygments_lexer": "ipython3",
   "version": "3.12.3"
  }
 },
 "nbformat": 4,
 "nbformat_minor": 2
}
