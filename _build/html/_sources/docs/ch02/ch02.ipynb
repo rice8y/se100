{
 "cells": [
  {
   "cell_type": "markdown",
   "metadata": {},
   "source": [
    "# 基本編2: ファイル処理\n",
    "## 21: テキストファイルの行数\n",
    "この[テキストファイル(wws2025cfp.txt)](https://ds4se100.github.io/basic/2.file-manipulation/data/wws2025cfp.txt)について, その行数を出力するプログラムを作りなさい."
   ]
  },
  {
   "cell_type": "markdown",
   "metadata": {},
   "source": [
    "`ex21.py`:\n",
    "\n",
    "```py\n",
    "import argparse\n",
    "\n",
    "def parse_args():\n",
    "    parser = argparse.ArgumentParser(description=\"Check the number of lines in the input file.\")\n",
    "    parser.add_argument(\"--file\", type=str, required=True, help=\"Path to the input file.\")\n",
    "    return parser.parse_args()\n",
    "\n",
    "def count_lines(file_path):\n",
    "    try:\n",
    "        with open(file_path, \"r\", encoding=\"utf-8\") as f:\n",
    "            return sum(1 for _ in f)\n",
    "    except FileNotFoundError:\n",
    "        print(f\"Error: File '{file_path}' not found.\")\n",
    "        return None\n",
    "        \n",
    "def main():\n",
    "    args = parse_args()\n",
    "    line_cnt = count_lines(args.file)\n",
    "    if line_cnt is not None:\n",
    "        print(f\"Number of lines: {line_cnt}\")\n",
    "\n",
    "if __name__ == \"__main__\":\n",
    "    main()\n",
    "```"
   ]
  },
  {
   "cell_type": "code",
   "execution_count": 3,
   "metadata": {},
   "outputs": [
    {
     "name": "stdout",
     "output_type": "stream",
     "text": [
      "Number of lines: 15\n"
     ]
    }
   ],
   "source": [
    "!python3 ex21.py --file wws2025cfp.txt"
   ]
  },
  {
   "cell_type": "markdown",
   "metadata": {},
   "source": []
  },
  {
   "cell_type": "markdown",
   "metadata": {},
   "source": [
    "## 22: テキストファイルを行番号付きで\n",
    "この[テキストファイル(wws2025cfp.txt)](https://ds4se100.github.io/basic/2.file-manipulation/data/wws2025cfp.txt)について, その内容を行番号付きで出力するプログラムを作りなさい."
   ]
  },
  {
   "cell_type": "markdown",
   "metadata": {},
   "source": [
    "`ex22.py`:\n",
    "\n",
    "```py\n",
    "import argparse\n",
    "\n",
    "def parse_args():\n",
    "    parser = argparse.ArgumentParser(description=\"Displays input file with line numbers.\")\n",
    "    parser.add_argument(\"--file\", type=str, required=True, help=\"Path to the input file.\")\n",
    "    return parser.parse_args()\n",
    "\n",
    "def print_lnum(file):\n",
    "    try:\n",
    "        with open(file, 'r') as f:\n",
    "            for i, line in enumerate(f, start=1):\n",
    "                print(f\"{i:>2}: {line}\", end='')\n",
    "    except FileNotFoundError:\n",
    "        print(f\"Error: File '{file}' not found.\")\n",
    "        return None\n",
    "        \n",
    "def main():\n",
    "    args = parse_args()\n",
    "    print_lnum(args.file)\n",
    "\n",
    "if __name__ == \"__main__\":\n",
    "    main()\n",
    "```"
   ]
  },
  {
   "cell_type": "code",
   "execution_count": 8,
   "metadata": {},
   "outputs": [
    {
     "name": "stdout",
     "output_type": "stream",
     "text": [
      " 1: 近年，産業界・学界を問わず「データサイエンス」が注目を集めている．\n",
      " 2: もともとは統計分析とデータマイニングを基盤として発展した分野であるが，\n",
      " 3: 最近では機械学習や AI 技術も活用したより高度なものになってきている．\n",
      " 4: ソフトウェア工学分野でもこれらを活用した研究や取り組みは多く，多岐に渡る．\n",
      " 5: これに関連して，研究者や技術者が学ぶべき内容も多様化してきており， 適切な教材に対するニーズは高まっている．\n",
      " 6: \n",
      " 7: 本セッションではソフトウェア工学分野におけるデータの分析や活用に関する基礎技術を学ぶための教材として\n",
      " 8: 「ソフトウェア工学のためのデータサイエンス 100 本ノック（仮称）」 を構築する共同作業の場を提供したい．\n",
      " 9: \n",
      "10: 教材の主なテーマとしては，バグ予測，品質評価・改善，見積り，リポジトリマイニング，\n",
      "11: その他データサイエンス・AIのソフトウェア開発・保守への応用などを想定しているがこれらに限定されるものではない．\n",
      "12: ワークショップでは教材の提案や共同開発，並びに内容のレビューに協力 いただける方の参加を期待している．\n",
      "13: 教材に対するニーズの検討や適切な難易度設定という観点から，初学者（学生の方を含む）の参加も歓迎する．\n",
      "14: なお，作業では GitHub を使用するため，申し込みの際には可能ならばご自身の GitHub アカウントをお知らせいただきたい． \n",
      "15: （議論のみ参加も認めるため，アカウントは必須ではありません．）"
     ]
    }
   ],
   "source": [
    "!python3 ex22.py --file wws2025cfp.txt"
   ]
  },
  {
   "cell_type": "markdown",
   "metadata": {},
   "source": [
    "## 23: CSVファイルのヘッダーと行数\n",
    "この[CSVファイル(カンマ区切りファイル)(iris.csv)](https://ds4se100.github.io/basic/2.file-manipulation/data/iris.csv)について,\n",
    "\n",
    "- データの行数\n",
    "- 1行目(ヘッダー)に書かれている項目数\n",
    "- 項目の一覧\n",
    "\n",
    "を出力するプログラムを作りなさい.\n",
    "ただし, データの行数にはヘッダー(1行目)は含めないものとする.\n",
    "(※irisデータの配布元[https://archive.ics.uci.edu/dataset/53/iris](https://archive.ics.uci.edu/dataset/53/iris))"
   ]
  },
  {
   "cell_type": "code",
   "execution_count": 9,
   "metadata": {},
   "outputs": [
    {
     "name": "stdout",
     "output_type": "stream",
     "text": [
      "--2025-02-11 00:19:22--  https://ds4se100.github.io/basic/2.file-manipulation/data/iris.csv\n",
      "Resolving ds4se100.github.io (ds4se100.github.io)... 185.199.109.153, 185.199.110.153, 185.199.111.153, ...\n",
      "Connecting to ds4se100.github.io (ds4se100.github.io)|185.199.109.153|:443... connected.\n",
      "HTTP request sent, awaiting response... 200 OK\n",
      "Length: 4464 (4.4K) [text/csv]\n",
      "Saving to: ‘iris.csv’\n",
      "\n",
      "iris.csv            100%[===================>]   4.36K  --.-KB/s    in 0s      \n",
      "\n",
      "2025-02-11 00:19:23 (26.6 MB/s) - ‘iris.csv’ saved [4464/4464]\n",
      "\n"
     ]
    }
   ],
   "source": [
    "# !wget https://ds4se100.github.io/basic/2.file-manipulation/data/iris.csv"
   ]
  },
  {
   "cell_type": "code",
   "execution_count": 10,
   "metadata": {},
   "outputs": [
    {
     "name": "stdout",
     "output_type": "stream",
     "text": [
      "Collecting pandas\n",
      "  Using cached pandas-2.2.3-cp312-cp312-manylinux_2_17_x86_64.manylinux2014_x86_64.whl.metadata (89 kB)\n",
      "Collecting numpy>=1.26.0 (from pandas)\n",
      "  Downloading numpy-2.2.2-cp312-cp312-manylinux_2_17_x86_64.manylinux2014_x86_64.whl.metadata (62 kB)\n",
      "\u001b[2K     \u001b[90m━━━━━━━━━━━━━━━━━━━━━━━━━━━━━━━━━━━━━━━\u001b[0m \u001b[32m62.0/62.0 kB\u001b[0m \u001b[31m723.2 kB/s\u001b[0m eta \u001b[36m0:00:00\u001b[0m00:01\u001b[0m0:01\u001b[0m\n",
      "\u001b[?25hRequirement already satisfied: python-dateutil>=2.8.2 in /home/yoneyama/de4se/venv/lib/python3.12/site-packages (from pandas) (2.9.0.post0)\n",
      "Collecting pytz>=2020.1 (from pandas)\n",
      "  Downloading pytz-2025.1-py2.py3-none-any.whl.metadata (22 kB)\n",
      "Collecting tzdata>=2022.7 (from pandas)\n",
      "  Downloading tzdata-2025.1-py2.py3-none-any.whl.metadata (1.4 kB)\n",
      "Requirement already satisfied: six>=1.5 in /home/yoneyama/de4se/venv/lib/python3.12/site-packages (from python-dateutil>=2.8.2->pandas) (1.17.0)\n",
      "Using cached pandas-2.2.3-cp312-cp312-manylinux_2_17_x86_64.manylinux2014_x86_64.whl (12.7 MB)\n",
      "Downloading numpy-2.2.2-cp312-cp312-manylinux_2_17_x86_64.manylinux2014_x86_64.whl (16.1 MB)\n",
      "\u001b[2K   \u001b[90m━━━━━━━━━━━━━━━━━━━━━━━━━━━━━━━━━━━━━━━━\u001b[0m \u001b[32m16.1/16.1 MB\u001b[0m \u001b[31m10.5 MB/s\u001b[0m eta \u001b[36m0:00:00\u001b[0m00:01\u001b[0m00:01\u001b[0m\n",
      "\u001b[?25hDownloading pytz-2025.1-py2.py3-none-any.whl (507 kB)\n",
      "\u001b[2K   \u001b[90m━━━━━━━━━━━━━━━━━━━━━━━━━━━━━━━━━━━━━━━━\u001b[0m \u001b[32m507.9/507.9 kB\u001b[0m \u001b[31m12.1 MB/s\u001b[0m eta \u001b[36m0:00:00\u001b[0m00:01\u001b[0m\n",
      "\u001b[?25hDownloading tzdata-2025.1-py2.py3-none-any.whl (346 kB)\n",
      "\u001b[2K   \u001b[90m━━━━━━━━━━━━━━━━━━━━━━━━━━━━━━━━━━━━━━━━\u001b[0m \u001b[32m346.8/346.8 kB\u001b[0m \u001b[31m11.0 MB/s\u001b[0m eta \u001b[36m0:00:00\u001b[0m\n",
      "\u001b[?25hInstalling collected packages: pytz, tzdata, numpy, pandas\n",
      "Successfully installed numpy-2.2.2 pandas-2.2.3 pytz-2025.1 tzdata-2025.1\n"
     ]
    }
   ],
   "source": [
    "# !pip install pandas"
   ]
  },
  {
   "cell_type": "markdown",
   "metadata": {},
   "source": [
    "`ex23.py`:\n",
    "\n",
    "```py\n",
    "import pandas as pd\n",
    "import argparse\n",
    "\n",
    "def parse_args():\n",
    "    parser = argparse.ArgumentParser(description=\"Displays details of the input file.\")\n",
    "    parser.add_argument(\"--file\", type=str, required=True, help=\"Path to the input file.\")\n",
    "    return parser.parse_args()\n",
    "\n",
    "def print_info(file):\n",
    "    try:\n",
    "        df = pd.read_csv(file)\n",
    "        rows = df.shape[0]\n",
    "        cols = df.shape[1]\n",
    "        header = df.columns.tolist()\n",
    "        print(f\"Number of lines: {rows}\\nNumber of items: {cols}\")\n",
    "        for i, item in enumerate(header, start=1):\n",
    "            print(f\"Item {i}: {item}\")\n",
    "        \n",
    "    except FileNotFoundError:\n",
    "        print(f\"Error: File '{file}' not found.\")\n",
    "        return None\n",
    "        \n",
    "def main():\n",
    "    args = parse_args()\n",
    "    print_info(args.file)\n",
    "\n",
    "if __name__ == \"__main__\":\n",
    "    main()\n",
    "```"
   ]
  },
  {
   "cell_type": "code",
   "execution_count": 26,
   "metadata": {},
   "outputs": [
    {
     "name": "stdout",
     "output_type": "stream",
     "text": [
      "Number of lines: 150\n",
      "Number of items: 5\n",
      "Item 1: sepal_length\n",
      "Item 2: sepal_width\n",
      "Item 3: petal_length\n",
      "Item 4: petal_width\n",
      "Item 5: class\n"
     ]
    }
   ],
   "source": [
    "!python3 ex23.py --file iris.csv"
   ]
  }
 ],
 "metadata": {
  "kernelspec": {
   "display_name": "venv",
   "language": "python",
   "name": "python3"
  },
  "language_info": {
   "codemirror_mode": {
    "name": "ipython",
    "version": 3
   },
   "file_extension": ".py",
   "mimetype": "text/x-python",
   "name": "python",
   "nbconvert_exporter": "python",
   "pygments_lexer": "ipython3",
   "version": "3.12.3"
  }
 },
 "nbformat": 4,
 "nbformat_minor": 2
}
