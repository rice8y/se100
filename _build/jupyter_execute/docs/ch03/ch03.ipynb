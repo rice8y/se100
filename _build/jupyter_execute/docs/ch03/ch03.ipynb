{
 "cells": [
  {
   "cell_type": "markdown",
   "metadata": {},
   "source": [
    "# 基本編4: 仮想環境(Python)\n",
    "## 41. 特定versionのpythonの環境を作る\n",
    "特定versionのpython環境を作成しなさい. また, それとは異なるversionのpython環境を作成しなさい."
   ]
  },
  {
   "cell_type": "code",
   "execution_count": 1,
   "metadata": {
    "vscode": {
     "languageId": "plaintext"
    }
   },
   "outputs": [
    {
     "name": "stdout",
     "output_type": "stream",
     "text": [
      "Using CPython 3.12.3 interpreter at: \u001b[36m/usr/bin/python3.12\u001b[39m\r\n",
      "Creating virtual environment at: \u001b[36mpy-3.12\u001b[39m\r\n",
      "Activate with: \u001b[32msource py-3.12/bin/activate\u001b[39m\r\n"
     ]
    },
    {
     "name": "stdout",
     "output_type": "stream",
     "text": [
      "Python 3.12.3\r\n"
     ]
    }
   ],
   "source": [
    "!uv venv py-3.12 --python 3.12\n",
    "!. py-3.12/bin/activate && python --version"
   ]
  },
  {
   "cell_type": "code",
   "execution_count": 2,
   "metadata": {
    "vscode": {
     "languageId": "plaintext"
    }
   },
   "outputs": [
    {
     "name": "stdout",
     "output_type": "stream",
     "text": [
      "/bin/bash: line 1: deactivate: command not found\r\n"
     ]
    },
    {
     "name": "stdout",
     "output_type": "stream",
     "text": [
      "Using CPython \u001b[36m3.13.2\u001b[39m\r\n",
      "Creating virtual environment at: \u001b[36mpy-3.13\u001b[39m\r\n",
      "Activate with: \u001b[32msource py-3.13/bin/activate\u001b[39m\r\n"
     ]
    },
    {
     "name": "stdout",
     "output_type": "stream",
     "text": [
      "Python 3.13.2\r\n"
     ]
    }
   ],
   "source": [
    "!deactivate\n",
    "!uv venv py-3.13 --python 3.13\n",
    "!. py-3.13/bin/activate && python --version"
   ]
  },
  {
   "cell_type": "markdown",
   "metadata": {},
   "source": [
    "## 42. 特定バージョンのライブラリをインストール\n",
    "最新版ではない特定バージョンのpythonライブラリをインストールして, そのバージョンがインストールされたことを確認しなさい. (発展: githubで公開されているpythonライブラリの特定コミット時点のものをインストールしなさい. 例: [https://github.com/tweepy/tweepy](https://github.com/tweepy/tweepy))"
   ]
  },
  {
   "cell_type": "code",
   "execution_count": 3,
   "metadata": {},
   "outputs": [
    {
     "name": "stdout",
     "output_type": "stream",
     "text": [
      "\u001b[33mWARNING: pip index is currently an experimental command. It may be removed/changed in a future release without prior warning.\u001b[0m\u001b[33m\r\n",
      "\u001b[0m"
     ]
    },
    {
     "name": "stdout",
     "output_type": "stream",
     "text": [
      "nvitop (1.4.2)\r\n",
      "Available versions: 1.4.2, 1.4.1, 1.4.0, 1.3.2, 1.3.1, 1.3.0, 1.2.0, 1.1.2, 1.1.1, 1.0.0, 0.11.0, 0.10.2, 0.10.1, 0.10.0, 0.9.0\r\n"
     ]
    }
   ],
   "source": [
    "!pip index versions nvitop"
   ]
  },
  {
   "cell_type": "code",
   "execution_count": 4,
   "metadata": {},
   "outputs": [
    {
     "name": "stdout",
     "output_type": "stream",
     "text": [
      "Collecting nvitop==1.4.0\r\n"
     ]
    },
    {
     "name": "stdout",
     "output_type": "stream",
     "text": [
      "  Downloading nvitop-1.4.0-py3-none-any.whl.metadata (80 kB)\r\n",
      "\u001b[?25l     \u001b[90m━━━━━━━━━━━━━━━━━━━━━━━━━━━━━━━━━━━━━━━━\u001b[0m \u001b[32m0.0/80.1 kB\u001b[0m \u001b[31m?\u001b[0m eta \u001b[36m-:--:--\u001b[0m"
     ]
    },
    {
     "name": "stdout",
     "output_type": "stream",
     "text": [
      "\r",
      "\u001b[2K     \u001b[91m━━━━━━━━━━━━━━━\u001b[0m\u001b[90m╺\u001b[0m\u001b[90m━━━━━━━━━━━━━━━━━━━━━━━━\u001b[0m \u001b[32m30.7/80.1 kB\u001b[0m \u001b[31m1.8 MB/s\u001b[0m eta \u001b[36m0:00:01\u001b[0m\r",
      "\u001b[2K     \u001b[91m━━━━━━━━━━━━━━━━━━━━━━━━━━━━━━━━━━━\u001b[0m\u001b[91m╸\u001b[0m\u001b[90m━━━━\u001b[0m \u001b[32m71.7/80.1 kB\u001b[0m \u001b[31m1.1 MB/s\u001b[0m eta \u001b[36m0:00:01\u001b[0m\r",
      "\u001b[2K     \u001b[90m━━━━━━━━━━━━━━━━━━━━━━━━━━━━━━━━━━━━━━━\u001b[0m \u001b[32m80.1/80.1 kB\u001b[0m \u001b[31m904.2 kB/s\u001b[0m eta \u001b[36m0:00:00\u001b[0m\r\n",
      "\u001b[?25h"
     ]
    },
    {
     "name": "stdout",
     "output_type": "stream",
     "text": [
      "Collecting nvidia-ml-py<12.561.0a0,>=11.450.51 (from nvitop==1.4.0)\r\n"
     ]
    },
    {
     "name": "stdout",
     "output_type": "stream",
     "text": [
      "  Downloading nvidia_ml_py-12.560.30-py3-none-any.whl.metadata (8.6 kB)\r\n",
      "Requirement already satisfied: psutil>=5.6.6 in /home/yoneyama/base/lib/python3.12/site-packages (from nvitop==1.4.0) (6.1.0)\r\n"
     ]
    },
    {
     "name": "stdout",
     "output_type": "stream",
     "text": [
      "Collecting cachetools>=1.0.1 (from nvitop==1.4.0)\r\n",
      "  Downloading cachetools-5.5.1-py3-none-any.whl.metadata (5.4 kB)\r\n"
     ]
    },
    {
     "name": "stdout",
     "output_type": "stream",
     "text": [
      "Collecting termcolor>=1.0.0 (from nvitop==1.4.0)\r\n",
      "  Downloading termcolor-2.5.0-py3-none-any.whl.metadata (6.1 kB)\r\n"
     ]
    },
    {
     "name": "stdout",
     "output_type": "stream",
     "text": [
      "Downloading nvitop-1.4.0-py3-none-any.whl (216 kB)\r\n",
      "\u001b[?25l   \u001b[90m━━━━━━━━━━━━━━━━━━━━━━━━━━━━━━━━━━━━━━━━\u001b[0m \u001b[32m0.0/216.4 kB\u001b[0m \u001b[31m?\u001b[0m eta \u001b[36m-:--:--\u001b[0m"
     ]
    },
    {
     "name": "stdout",
     "output_type": "stream",
     "text": [
      "\r",
      "\u001b[2K   \u001b[91m━━━━━━━━━━━━━\u001b[0m\u001b[90m╺\u001b[0m\u001b[90m━━━━━━━━━━━━━━━━━━━━━━━━━━\u001b[0m \u001b[32m71.7/216.4 kB\u001b[0m \u001b[31m2.5 MB/s\u001b[0m eta \u001b[36m0:00:01\u001b[0m"
     ]
    },
    {
     "name": "stdout",
     "output_type": "stream",
     "text": [
      "\r",
      "\u001b[2K   \u001b[91m━━━━━━━━━━━━━━━━━━━━━━━━━━━━━━━━━━━━━━━\u001b[0m\u001b[91m╸\u001b[0m \u001b[32m215.0/216.4 kB\u001b[0m \u001b[31m3.3 MB/s\u001b[0m eta \u001b[36m0:00:01\u001b[0m\r",
      "\u001b[2K   \u001b[90m━━━━━━━━━━━━━━━━━━━━━━━━━━━━━━━━━━━━━━━━\u001b[0m \u001b[32m216.4/216.4 kB\u001b[0m \u001b[31m2.6 MB/s\u001b[0m eta \u001b[36m0:00:00\u001b[0m\r\n",
      "\u001b[?25hDownloading cachetools-5.5.1-py3-none-any.whl (9.5 kB)\r\n"
     ]
    },
    {
     "name": "stdout",
     "output_type": "stream",
     "text": [
      "Downloading nvidia_ml_py-12.560.30-py3-none-any.whl (40 kB)\r\n",
      "\u001b[?25l   \u001b[90m━━━━━━━━━━━━━━━━━━━━━━━━━━━━━━━━━━━━━━━━\u001b[0m \u001b[32m0.0/40.5 kB\u001b[0m \u001b[31m?\u001b[0m eta \u001b[36m-:--:--\u001b[0m"
     ]
    },
    {
     "name": "stdout",
     "output_type": "stream",
     "text": [
      "\r",
      "\u001b[2K   \u001b[90m━━━━━━━━━━━━━━━━━━━━━━━━━━━━━━━━━━━━━━━━\u001b[0m \u001b[32m40.5/40.5 kB\u001b[0m \u001b[31m1.6 MB/s\u001b[0m eta \u001b[36m0:00:00\u001b[0m\r\n",
      "\u001b[?25hDownloading termcolor-2.5.0-py3-none-any.whl (7.8 kB)\r\n"
     ]
    },
    {
     "name": "stdout",
     "output_type": "stream",
     "text": [
      "Installing collected packages: nvidia-ml-py, termcolor, cachetools, nvitop\r\n",
      "  Attempting uninstall: nvidia-ml-py\r\n"
     ]
    },
    {
     "name": "stdout",
     "output_type": "stream",
     "text": [
      "    Found existing installation: nvidia-ml-py 12.570.86\r\n",
      "    Uninstalling nvidia-ml-py-12.570.86:\r\n"
     ]
    },
    {
     "name": "stdout",
     "output_type": "stream",
     "text": [
      "      Successfully uninstalled nvidia-ml-py-12.570.86\r\n"
     ]
    },
    {
     "name": "stdout",
     "output_type": "stream",
     "text": [
      "Successfully installed cachetools-5.5.1 nvidia-ml-py-12.560.30 nvitop-1.4.0 termcolor-2.5.0\r\n"
     ]
    }
   ],
   "source": [
    "!pip install nvitop==1.4.0"
   ]
  },
  {
   "cell_type": "code",
   "execution_count": 5,
   "metadata": {},
   "outputs": [
    {
     "name": "stdout",
     "output_type": "stream",
     "text": [
      "nvitop 1.4.0\r\n"
     ]
    }
   ],
   "source": [
    "!nvitop --version"
   ]
  },
  {
   "cell_type": "code",
   "execution_count": 6,
   "metadata": {},
   "outputs": [
    {
     "name": "stdout",
     "output_type": "stream",
     "text": [
      "Collecting git+https://github.com/XuehaiPan/nvitop.git@ec53de75b4579c319eb6e6b5c1e906d5cb90b561\r\n",
      "  Cloning https://github.com/XuehaiPan/nvitop.git (to revision ec53de75b4579c319eb6e6b5c1e906d5cb90b561) to /tmp/pip-req-build-960oxgdx\r\n",
      "  Running command git clone --filter=blob:none --quiet https://github.com/XuehaiPan/nvitop.git /tmp/pip-req-build-960oxgdx\r\n"
     ]
    },
    {
     "name": "stdout",
     "output_type": "stream",
     "text": [
      "  Running command git rev-parse -q --verify 'sha^ec53de75b4579c319eb6e6b5c1e906d5cb90b561'\r\n"
     ]
    },
    {
     "name": "stdout",
     "output_type": "stream",
     "text": [
      "  Running command git fetch -q https://github.com/XuehaiPan/nvitop.git ec53de75b4579c319eb6e6b5c1e906d5cb90b561\r\n"
     ]
    },
    {
     "name": "stdout",
     "output_type": "stream",
     "text": [
      "  Running command git checkout -q ec53de75b4579c319eb6e6b5c1e906d5cb90b561\r\n"
     ]
    },
    {
     "name": "stdout",
     "output_type": "stream",
     "text": [
      "  Resolved https://github.com/XuehaiPan/nvitop.git to commit ec53de75b4579c319eb6e6b5c1e906d5cb90b561\r\n"
     ]
    },
    {
     "name": "stdout",
     "output_type": "stream",
     "text": [
      "  Installing build dependencies ... \u001b[?25l-"
     ]
    },
    {
     "name": "stdout",
     "output_type": "stream",
     "text": [
      "\b \b\\"
     ]
    },
    {
     "name": "stdout",
     "output_type": "stream",
     "text": [
      "\b \b|"
     ]
    },
    {
     "name": "stdout",
     "output_type": "stream",
     "text": [
      "\b \bdone\r\n"
     ]
    },
    {
     "name": "stdout",
     "output_type": "stream",
     "text": [
      "\u001b[?25h  Getting requirements to build wheel ... \u001b[?25l-"
     ]
    },
    {
     "name": "stdout",
     "output_type": "stream",
     "text": [
      "\b \bdone\r\n"
     ]
    },
    {
     "name": "stdout",
     "output_type": "stream",
     "text": [
      "\u001b[?25h  Preparing metadata (pyproject.toml) ... \u001b[?25l-"
     ]
    },
    {
     "name": "stdout",
     "output_type": "stream",
     "text": [
      "\b \bdone\r\n"
     ]
    },
    {
     "name": "stdout",
     "output_type": "stream",
     "text": [
      "\u001b[?25hCollecting nvidia-ml-py<12.536.0a0,>=11.450.51 (from nvitop==1.2.0)\r\n"
     ]
    },
    {
     "name": "stdout",
     "output_type": "stream",
     "text": [
      "  Downloading nvidia_ml_py-12.535.161-py3-none-any.whl.metadata (8.6 kB)\r\n",
      "Requirement already satisfied: psutil>=5.6.6 in /home/yoneyama/base/lib/python3.12/site-packages (from nvitop==1.2.0) (6.1.0)\r\n",
      "Requirement already satisfied: cachetools>=1.0.1 in /home/yoneyama/base/lib/python3.12/site-packages (from nvitop==1.2.0) (5.5.1)\r\n",
      "Requirement already satisfied: termcolor>=1.0.0 in /home/yoneyama/base/lib/python3.12/site-packages (from nvitop==1.2.0) (2.5.0)\r\n"
     ]
    },
    {
     "name": "stdout",
     "output_type": "stream",
     "text": [
      "Downloading nvidia_ml_py-12.535.161-py3-none-any.whl (37 kB)\r\n",
      "Building wheels for collected packages: nvitop\r\n"
     ]
    },
    {
     "name": "stdout",
     "output_type": "stream",
     "text": [
      "  Building wheel for nvitop (pyproject.toml) ... \u001b[?25l-"
     ]
    },
    {
     "name": "stdout",
     "output_type": "stream",
     "text": [
      "\b \bdone\r\n",
      "\u001b[?25h  Created wheel for nvitop: filename=nvitop-1.2.0-py3-none-any.whl size=209903 sha256=06e6e25e2bff647c89aa371765ba3f86ce98bcd44da8a4ec9710bfb261bda89c\r\n",
      "  Stored in directory: /home/yoneyama/.cache/pip/wheels/d0/b6/54/17e1b83d81f16cc149f5cc527d4da1290f528bf7c3becab9cd\r\n"
     ]
    },
    {
     "name": "stdout",
     "output_type": "stream",
     "text": [
      "Successfully built nvitop\r\n"
     ]
    },
    {
     "name": "stdout",
     "output_type": "stream",
     "text": [
      "Installing collected packages: nvidia-ml-py, nvitop\r\n",
      "  Attempting uninstall: nvidia-ml-py\r\n",
      "    Found existing installation: nvidia-ml-py 12.560.30\r\n",
      "    Uninstalling nvidia-ml-py-12.560.30:\r\n"
     ]
    },
    {
     "name": "stdout",
     "output_type": "stream",
     "text": [
      "      Successfully uninstalled nvidia-ml-py-12.560.30\r\n"
     ]
    },
    {
     "name": "stdout",
     "output_type": "stream",
     "text": [
      "  Attempting uninstall: nvitop\r\n"
     ]
    },
    {
     "name": "stdout",
     "output_type": "stream",
     "text": [
      "    Found existing installation: nvitop 1.4.0\r\n",
      "    Uninstalling nvitop-1.4.0:\r\n",
      "      Successfully uninstalled nvitop-1.4.0\r\n"
     ]
    },
    {
     "name": "stdout",
     "output_type": "stream",
     "text": [
      "Successfully installed nvidia-ml-py-12.535.161 nvitop-1.2.0\r\n"
     ]
    }
   ],
   "source": [
    "!pip install git+https://github.com/XuehaiPan/nvitop.git@ec53de75b4579c319eb6e6b5c1e906d5cb90b561"
   ]
  },
  {
   "cell_type": "code",
   "execution_count": 7,
   "metadata": {},
   "outputs": [
    {
     "name": "stdout",
     "output_type": "stream",
     "text": [
      "nvitop 1.2.0\r\n"
     ]
    }
   ],
   "source": [
    "!nvitop --version"
   ]
  }
 ],
 "metadata": {
  "language_info": {
   "codemirror_mode": {
    "name": "ipython",
    "version": 3
   },
   "file_extension": ".py",
   "mimetype": "text/x-python",
   "name": "python",
   "nbconvert_exporter": "python",
   "pygments_lexer": "ipython3",
   "version": "3.12.3"
  }
 },
 "nbformat": 4,
 "nbformat_minor": 2
}