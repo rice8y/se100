{
 "cells": [
  {
   "cell_type": "markdown",
   "metadata": {},
   "source": [
    "# 基本編2: ファイル処理\n",
    "## 21: テキストファイルの行数\n",
    "この[テキストファイル(wws2025cfp.txt)](https://ds4se100.github.io/basic/2.file-manipulation/data/wws2025cfp.txt)について, その行数を出力するプログラムを作りなさい."
   ]
  },
  {
   "cell_type": "markdown",
   "metadata": {},
   "source": [
    "`ex21.py`:\n",
    "\n",
    "```py\n",
    "import argparse\n",
    "\n",
    "def parse_args():\n",
    "    parser = argparse.ArgumentParser(description=\"Check the number of lines in the input file.\")\n",
    "    parser.add_argument(\"--file\", type=str, required=True, help=\"Path to the input file.\")\n",
    "    return parser.parse_args()\n",
    "\n",
    "def count_lines(file_path):\n",
    "    try:\n",
    "        with open(file_path, \"r\", encoding=\"utf-8\") as f:\n",
    "            return sum(1 for _ in f)\n",
    "    except FileNotFoundError:\n",
    "        print(f\"Error: File '{file_path}' not found.\")\n",
    "        return None\n",
    "        \n",
    "def main():\n",
    "    args = parse_args()\n",
    "    line_cnt = count_lines(args.file)\n",
    "    if line_cnt is not None:\n",
    "        print(f\"Number of lines: {line_cnt}\")\n",
    "\n",
    "if __name__ == \"__main__\":\n",
    "    main()\n",
    "```"
   ]
  },
  {
   "cell_type": "code",
   "execution_count": 1,
   "metadata": {},
   "outputs": [
    {
     "name": "stdout",
     "output_type": "stream",
     "text": [
      "  File \"/home/yoneyama/de4se/docs/ch02/ex21.py\", line 5\r\n",
      "    parser.add_argument(\"--file\", type=str, required=True, required=True, help=\"Path to the input file.\")\r\n",
      "                                                           ^^^^^^^^^^^^^\r\n",
      "SyntaxError: keyword argument repeated: required\r\n"
     ]
    }
   ],
   "source": [
    "!python3 ex21.py --file wws2025cfp.txt"
   ]
  },
  {
   "cell_type": "markdown",
   "metadata": {},
   "source": []
  },
  {
   "cell_type": "markdown",
   "metadata": {},
   "source": [
    "## 22: テキストファイルを行番号付きで\n",
    "この[テキストファイル(wws2025cfp.txt)](https://ds4se100.github.io/basic/2.file-manipulation/data/wws2025cfp.txt)について, その内容を行番号付きで出力するプログラムを作りなさい."
   ]
  },
  {
   "cell_type": "markdown",
   "metadata": {},
   "source": [
    "`ex22.py`:\n",
    "\n",
    "```py\n",
    "import argparse\n",
    "\n",
    "def parse_args():\n",
    "    parser = argparse.ArgumentParser(description=\"Displays input file with line numbers.\")\n",
    "    parser.add_argument(\"--file\", type=str, required=True, help=\"Path to the input file.\")\n",
    "    return parser.parse_args()\n",
    "\n",
    "def print_lnum(file):\n",
    "    try:\n",
    "        with open(file, 'r') as f:\n",
    "            for i, line in enumerate(f, start=1):\n",
    "                print(f\"{i:>2}: {line}\", end='')\n",
    "    except FileNotFoundError:\n",
    "        print(f\"Error: File '{file}' not found.\")\n",
    "        return None\n",
    "        \n",
    "def main():\n",
    "    args = parse_args()\n",
    "    print_lnum(args.file)\n",
    "\n",
    "if __name__ == \"__main__\":\n",
    "    main()\n",
    "```"
   ]
  },
  {
   "cell_type": "code",
   "execution_count": 2,
   "metadata": {},
   "outputs": [
    {
     "name": "stdout",
     "output_type": "stream",
     "text": [
      " 1: 近年，産業界・学界を問わず「データサイエンス」が注目を集めている．\r\n",
      " 2: もともとは統計分析とデータマイニングを基盤として発展した分野であるが，\r\n",
      " 3: 最近では機械学習や AI 技術も活用したより高度なものになってきている．\r\n",
      " 4: ソフトウェア工学分野でもこれらを活用した研究や取り組みは多く，多岐に渡る．\r\n",
      " 5: これに関連して，研究者や技術者が学ぶべき内容も多様化してきており， 適切な教材に対するニーズは高まっている．\r\n",
      " 6: \r\n",
      " 7: 本セッションではソフトウェア工学分野におけるデータの分析や活用に関する基礎技術を学ぶための教材として\r\n",
      " 8: 「ソフトウェア工学のためのデータサイエンス 100 本ノック（仮称）」 を構築する共同作業の場を提供したい．\r\n",
      " 9: \r\n",
      "10: 教材の主なテーマとしては，バグ予測，品質評価・改善，見積り，リポジトリマイニング，\r\n",
      "11: その他データサイエンス・AIのソフトウェア開発・保守への応用などを想定しているがこれらに限定されるものではない．\r\n",
      "12: ワークショップでは教材の提案や共同開発，並びに内容のレビューに協力 いただける方の参加を期待している．\r\n",
      "13: 教材に対するニーズの検討や適切な難易度設定という観点から，初学者（学生の方を含む）の参加も歓迎する．\r\n",
      "14: なお，作業では GitHub を使用するため，申し込みの際には可能ならばご自身の GitHub アカウントをお知らせいただきたい． \r\n",
      "15: （議論のみ参加も認めるため，アカウントは必須ではありません．）"
     ]
    }
   ],
   "source": [
    "!python3 ex22.py --file wws2025cfp.txt"
   ]
  },
  {
   "cell_type": "markdown",
   "metadata": {},
   "source": [
    "## 23: CSVファイルのヘッダーと行数\n",
    "この[CSVファイル(カンマ区切りファイル)(iris.csv)](https://ds4se100.github.io/basic/2.file-manipulation/data/iris.csv)について,\n",
    "\n",
    "- データの行数\n",
    "- 1行目(ヘッダー)に書かれている項目数\n",
    "- 項目の一覧\n",
    "\n",
    "を出力するプログラムを作りなさい.\n",
    "ただし, データの行数にはヘッダー(1行目)は含めないものとする.\n",
    "(※irisデータの配布元[https://archive.ics.uci.edu/dataset/53/iris](https://archive.ics.uci.edu/dataset/53/iris))"
   ]
  },
  {
   "cell_type": "code",
   "execution_count": 3,
   "metadata": {},
   "outputs": [],
   "source": [
    "# !wget https://ds4se100.github.io/basic/2.file-manipulation/data/iris.csv"
   ]
  },
  {
   "cell_type": "code",
   "execution_count": 4,
   "metadata": {},
   "outputs": [],
   "source": [
    "# !pip install pandas"
   ]
  },
  {
   "cell_type": "markdown",
   "metadata": {},
   "source": [
    "`ex23.py`:\n",
    "\n",
    "```py\n",
    "import pandas as pd\n",
    "import argparse\n",
    "\n",
    "def parse_args():\n",
    "    parser = argparse.ArgumentParser(description=\"Displays details of the input file.\")\n",
    "    parser.add_argument(\"--file\", type=str, required=True, help=\"Path to the input file.\")\n",
    "    return parser.parse_args()\n",
    "\n",
    "def print_info(file):\n",
    "    try:\n",
    "        df = pd.read_csv(file)\n",
    "        rows = df.shape[0]\n",
    "        cols = df.shape[1]\n",
    "        header = df.columns.tolist()\n",
    "        print(f\"Number of lines: {rows}\\nNumber of items: {cols}\")\n",
    "        for i, item in enumerate(header, start=1):\n",
    "            print(f\"Item {i}: {item}\")\n",
    "        \n",
    "    except FileNotFoundError:\n",
    "        print(f\"Error: File '{file}' not found.\")\n",
    "        return None\n",
    "        \n",
    "def main():\n",
    "    args = parse_args()\n",
    "    print_info(args.file)\n",
    "\n",
    "if __name__ == \"__main__\":\n",
    "    main()\n",
    "```"
   ]
  },
  {
   "cell_type": "code",
   "execution_count": 5,
   "metadata": {},
   "outputs": [
    {
     "name": "stdout",
     "output_type": "stream",
     "text": [
      "Number of lines: 150\r\n",
      "Number of items: 5\r\n",
      "Item 1: sepal_length\r\n",
      "Item 2: sepal_width\r\n",
      "Item 3: petal_length\r\n",
      "Item 4: petal_width\r\n",
      "Item 5: class\r\n"
     ]
    }
   ],
   "source": [
    "!python3 ex23.py --file iris.csv"
   ]
  }
 ],
 "metadata": {
  "kernelspec": {
   "display_name": "venv",
   "language": "python",
   "name": "python3"
  },
  "language_info": {
   "codemirror_mode": {
    "name": "ipython",
    "version": 3
   },
   "file_extension": ".py",
   "mimetype": "text/x-python",
   "name": "python",
   "nbconvert_exporter": "python",
   "pygments_lexer": "ipython3",
   "version": "3.12.3"
  }
 },
 "nbformat": 4,
 "nbformat_minor": 2
}