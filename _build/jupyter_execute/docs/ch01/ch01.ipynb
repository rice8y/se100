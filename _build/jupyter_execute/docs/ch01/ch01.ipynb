{
 "cells": [
  {
   "cell_type": "markdown",
   "metadata": {},
   "source": [
    "# 基本編1: 文字列処理"
   ]
  },
  {
   "cell_type": "markdown",
   "metadata": {},
   "source": [
    "## 11. 文字列を含む文字の抽出\n",
    "この[テキストファイル(wws2025cfp.txt)](https://ds4se100.github.io/basic/1.string-manipulation/data/wws2025cfp.txt)について，任意の文字列を指定し、その文字列が含まれる行を出力するプログラムを作りなさい．"
   ]
  },
  {
   "cell_type": "code",
   "execution_count": 1,
   "metadata": {},
   "outputs": [],
   "source": [
    "# !wget https://ds4se100.github.io/basic/1.string-manipulation/data/wws2025cfp.txt"
   ]
  },
  {
   "cell_type": "markdown",
   "metadata": {},
   "source": [
    "`ex11.py`:\n",
    "\n",
    "```py\n",
    "import argparse\n",
    "import colorama\n",
    "from colorama import Fore, Style\n",
    "\n",
    "colorama.init(autoreset=True)\n",
    "\n",
    "def parse_args():\n",
    "    parser = argparse.ArgumentParser(description=\"Search for lines containing a target string in a file.\")\n",
    "    parser.add_argument(\"--file\", type=str, help=\"Path to the input file.\")\n",
    "    parser.add_argument(\"--tgt\", type=str, help=\"Target string to search for in the file.\")\n",
    "    return parser.parse_args()\n",
    "    \n",
    "def grep(file, tgt):\n",
    "    flag = False\n",
    "    with open(file, 'r', encoding='utf-8') as f:\n",
    "        for i, line in enumerate(f, start=1):\n",
    "            if tgt in line:\n",
    "                flag = True\n",
    "                highlighted = line.replace(tgt, f\"{Fore.RED}{tgt}{Style.RESET_ALL}\")\n",
    "                print(f\"Line {i}: {highlighted}\", end='')\n",
    "                \n",
    "    if not flag:\n",
    "        raise ValueError(f\"Error: '{tgt}' was not found in '{file}'.\")\n",
    "\n",
    "def main():\n",
    "    args = parse_args()\n",
    "    grep(args.file, args.tgt)\n",
    "    \n",
    "if __name__ == \"__main__\":\n",
    "    main()\n",
    "```"
   ]
  },
  {
   "cell_type": "code",
   "execution_count": 2,
   "metadata": {},
   "outputs": [],
   "source": [
    "# !pip install colorama"
   ]
  },
  {
   "cell_type": "code",
   "execution_count": 3,
   "metadata": {},
   "outputs": [
    {
     "name": "stdout",
     "output_type": "stream",
     "text": [
      "Line 4: \u001b[31mソフトウェア工学\u001b[0m分野でもこれらを活用した研究や取り組みは多く，多岐に渡る．\r\n",
      "\u001b[0m\u001b[0mLine 7: 本セッションでは\u001b[31mソフトウェア工学\u001b[0m分野におけるデータの分析や活用に関する基礎技術を学ぶための教材として\r\n",
      "\u001b[0m\u001b[0mLine 8: 「\u001b[31mソフトウェア工学\u001b[0mのためのデータサイエンス 100 本ノック（仮称）」 を構築する共同作業の場を提供したい．\r\n",
      "\u001b[0m\u001b[0m\u001b[0m"
     ]
    }
   ],
   "source": [
    "!python3 ex11.py --file wws2025cfp.txt --tgt ソフトウェア工学"
   ]
  },
  {
   "cell_type": "markdown",
   "metadata": {},
   "source": [
    "## 12. 文字の変換・置換\n",
    "この[テキストファイル(wws2025cfp.txt)](https://ds4se100.github.io/basic/1.string-manipulation/data/wws2025cfp.txt)について，変更前の文字列と変更後の文字列を指定し、置換した結果を表示するプログラムを作りなさい．"
   ]
  },
  {
   "cell_type": "markdown",
   "metadata": {},
   "source": [
    "`ex12.py`:\n",
    "\n",
    "```py\n",
    "import argparse\n",
    "import colorama\n",
    "from colorama import Fore, Style\n",
    "\n",
    "colorama.init(autoreset=True)\n",
    "\n",
    "def parse_args():\n",
    "    parser = argparse.ArgumentParser(description=\"Search for lines containing a target string and replace it with another string.\")\n",
    "    parser.add_argument(\"--file\", type=str, help=\"Path to the input file.\")\n",
    "    parser.add_argument(\"--before\", type=str, help=\"String to be replaced.\")\n",
    "    parser.add_argument(\"--after\", type=str, help=\"String to replace with.\")\n",
    "    return parser.parse_args()\n",
    "\n",
    "def diff(file, before, after):\n",
    "    flag = False\n",
    "    with open(file, 'r', encoding='utf-8') as f:\n",
    "        for i, line in enumerate(f, start=1):\n",
    "            print(line, end='')\n",
    "            if before in line:\n",
    "                flag = True\n",
    "                before_hl = line.replace(before, f\"{Fore.RED}{before}{Style.RESET_ALL}\")\n",
    "                after_hl = line.replace(before, f\"{Fore.GREEN}{after}{Style.RESET_ALL}\")\n",
    "                print(f\"{Fore.RED}-{Style.RESET_ALL} {before_hl}\", end='')\n",
    "                print(f\"{Fore.GREEN}+{Style.RESET_ALL} {after_hl}\", end='')\n",
    "                \n",
    "    if not flag:\n",
    "        raise ValueError(f\"Error: '{before}' was not found in '{file}'.\")\n",
    "    else:\n",
    "        print()\n",
    "\n",
    "def main():\n",
    "    args = parse_args()\n",
    "    diff(args.file, args.before, args.after)\n",
    "\n",
    "if __name__ == \"__main__\":\n",
    "    main()\n",
    "```"
   ]
  },
  {
   "cell_type": "code",
   "execution_count": 4,
   "metadata": {},
   "outputs": [
    {
     "name": "stdout",
     "output_type": "stream",
     "text": [
      "近年，産業界・学界を問わず「データサイエンス」が注目を集めている．\r\n",
      "\u001b[0m\u001b[0mもともとは統計分析とデータマイニングを基盤として発展した分野であるが，\r\n",
      "\u001b[0m\u001b[0m最近では機械学習や AI 技術も活用したより高度なものになってきている．\r\n",
      "\u001b[0m\u001b[0mソフトウェア工学分野でもこれらを活用した研究や取り組みは多く，多岐に渡る．\r\n",
      "\u001b[0m\u001b[0m\u001b[31m-\u001b[0m \u001b[31mソフトウェア工学\u001b[0m分野でもこれらを活用した研究や取り組みは多く，多岐に渡る．\r\n",
      "\u001b[0m\u001b[0m\u001b[32m+\u001b[0m \u001b[32m自然言語処理\u001b[0m分野でもこれらを活用した研究や取り組みは多く，多岐に渡る．\r\n",
      "\u001b[0m\u001b[0mこれに関連して，研究者や技術者が学ぶべき内容も多様化してきており， 適切な教材に対するニーズは高まっている．\r\n",
      "\u001b[0m\u001b[0m\r\n",
      "\u001b[0m\u001b[0m本セッションではソフトウェア工学分野におけるデータの分析や活用に関する基礎技術を学ぶための教材として\r\n",
      "\u001b[0m\u001b[0m\u001b[31m-\u001b[0m 本セッションでは\u001b[31mソフトウェア工学\u001b[0m分野におけるデータの分析や活用に関する基礎技術を学ぶための教材として\r\n",
      "\u001b[0m\u001b[0m\u001b[32m+\u001b[0m 本セッションでは\u001b[32m自然言語処理\u001b[0m分野におけるデータの分析や活用に関する基礎技術を学ぶための教材として\r\n",
      "\u001b[0m\u001b[0m「ソフトウェア工学のためのデータサイエンス 100 本ノック（仮称）」 を構築する共同作業の場を提供したい．\r\n",
      "\u001b[0m\u001b[0m\u001b[31m-\u001b[0m 「\u001b[31mソフトウェア工学\u001b[0mのためのデータサイエンス 100 本ノック（仮称）」 を構築する共同作業の場を提供したい．\r\n",
      "\u001b[0m\u001b[0m\u001b[32m+\u001b[0m 「\u001b[32m自然言語処理\u001b[0mのためのデータサイエンス 100 本ノック（仮称）」 を構築する共同作業の場を提供したい．\r\n",
      "\u001b[0m\u001b[0m\r\n",
      "\u001b[0m\u001b[0m教材の主なテーマとしては，バグ予測，品質評価・改善，見積り，リポジトリマイニング，\r\n",
      "\u001b[0m\u001b[0mその他データサイエンス・AIのソフトウェア開発・保守への応用などを想定しているがこれらに限定されるものではない．\r\n",
      "\u001b[0m\u001b[0mワークショップでは教材の提案や共同開発，並びに内容のレビューに協力 いただける方の参加を期待している．\r\n",
      "\u001b[0m\u001b[0m教材に対するニーズの検討や適切な難易度設定という観点から，初学者（学生の方を含む）の参加も歓迎する．\r\n",
      "\u001b[0m\u001b[0mなお，作業では GitHub を使用するため，申し込みの際には可能ならばご自身の GitHub アカウントをお知らせいただきたい． \r\n",
      "\u001b[0m\u001b[0m（議論のみ参加も認めるため，アカウントは必須ではありません．）\u001b[0m\u001b[0m\r\n",
      "\u001b[0m\u001b[0m"
     ]
    }
   ],
   "source": [
    "!python3 ex12.py --file wws2025cfp.txt --before ソフトウェア工学 --after 自然言語処理"
   ]
  },
  {
   "cell_type": "code",
   "execution_count": null,
   "metadata": {},
   "outputs": [],
   "source": []
  }
 ],
 "metadata": {
  "kernelspec": {
   "display_name": "venv",
   "language": "python",
   "name": "python3"
  },
  "language_info": {
   "codemirror_mode": {
    "name": "ipython",
    "version": 3
   },
   "file_extension": ".py",
   "mimetype": "text/x-python",
   "name": "python",
   "nbconvert_exporter": "python",
   "pygments_lexer": "ipython3",
   "version": "3.12.3"
  }
 },
 "nbformat": 4,
 "nbformat_minor": 2
}