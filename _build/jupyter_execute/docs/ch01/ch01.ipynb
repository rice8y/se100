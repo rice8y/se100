{
 "cells": [
  {
   "cell_type": "markdown",
   "metadata": {},
   "source": [
    "# 基本編1: 文字列処理"
   ]
  },
  {
   "cell_type": "markdown",
   "metadata": {},
   "source": [
    "## 11. 文字列を含む文字の抽出\n",
    "この[テキストファイル(wws2025cfp.txt)](https://ds4se100.github.io/basic/1.string-manipulation/data/wws2025cfp.txt)について，任意の文字列を指定し、その文字列が含まれる行を出力するプログラムを作りなさい．"
   ]
  },
  {
   "cell_type": "code",
   "execution_count": 1,
   "metadata": {},
   "outputs": [],
   "source": [
    "# !wget https://ds4se100.github.io/basic/1.string-manipulation/data/wws2025cfp.txt"
   ]
  },
  {
   "cell_type": "markdown",
   "metadata": {},
   "source": [
    "`ex11.py`:\n",
    "\n",
    "```py\n",
    "import argparse\n",
    "import colorama\n",
    "from colorama import Fore, Style\n",
    "\n",
    "colorama.init(autoreset=True)\n",
    "\n",
    "def parse_args():\n",
    "    parser = argparse.ArgumentParser(description=\"Search for lines containing a target string in a file.\")\n",
    "    parser.add_argument(\"--file\", type=str, help=\"Path to the input file.\")\n",
    "    parser.add_argument(\"--tgt\", type=str, help=\"Target string to search for in the file.\")\n",
    "    return parser.parse_args()\n",
    "    \n",
    "def grep(file, tgt):\n",
    "    with open(file, 'r', encoding='utf-8') as f:\n",
    "        for i, line in enumerate(f, start=1):\n",
    "            if tgt in line:\n",
    "                highlighted = line.replace(tgt, f\"{Fore.RED}{tgt}{Style.RESET_ALL}\")\n",
    "                print(f\"Line {i}: {highlighted}\", end='')\n",
    "\n",
    "def main():\n",
    "    args = parse_args()\n",
    "    grep(args.file, args.tgt)\n",
    "    \n",
    "if __name__ == \"__main__\":\n",
    "    main()\n",
    "```"
   ]
  },
  {
   "cell_type": "code",
   "execution_count": 2,
   "metadata": {},
   "outputs": [],
   "source": [
    "# !pip install colorama"
   ]
  },
  {
   "cell_type": "code",
   "execution_count": 3,
   "metadata": {},
   "outputs": [
    {
     "name": "stdout",
     "output_type": "stream",
     "text": [
      "Traceback (most recent call last):\r\n",
      "  File \"/home/yoneyama/de4se/docs/ch01/ex11.py\", line 2, in <module>\r\n",
      "    import colorama\r\n",
      "ModuleNotFoundError: No module named 'colorama'\r\n"
     ]
    }
   ],
   "source": [
    "!python3 ex11.py --file wws2025cfp.txt --tgt ソフトウェア工学"
   ]
  },
  {
   "cell_type": "code",
   "execution_count": null,
   "metadata": {},
   "outputs": [],
   "source": []
  }
 ],
 "metadata": {
  "kernelspec": {
   "display_name": "venv",
   "language": "python",
   "name": "python3"
  },
  "language_info": {
   "codemirror_mode": {
    "name": "ipython",
    "version": 3
   },
   "file_extension": ".py",
   "mimetype": "text/x-python",
   "name": "python",
   "nbconvert_exporter": "python",
   "pygments_lexer": "ipython3",
   "version": "3.12.3"
  }
 },
 "nbformat": 4,
 "nbformat_minor": 2
}