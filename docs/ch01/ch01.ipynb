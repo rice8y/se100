{
 "cells": [
  {
   "cell_type": "markdown",
   "metadata": {},
   "source": [
    "# 基本編1: 文字列処理"
   ]
  },
  {
   "cell_type": "markdown",
   "metadata": {},
   "source": [
    "## 11. 文字列を含む文字の抽出\n",
    "この[テキストファイル(wws2025cfp.txt)](https://ds4se100.github.io/basic/1.string-manipulation/data/wws2025cfp.txt)について，任意の文字列を指定し、その文字列が含まれる行を出力するプログラムを作りなさい．"
   ]
  },
  {
   "cell_type": "code",
   "execution_count": 1,
   "metadata": {},
   "outputs": [
    {
     "name": "stdout",
     "output_type": "stream",
     "text": [
      "--2025-02-10 21:24:16--  https://ds4se100.github.io/basic/1.string-manipulation/data/wws2025cfp.txt\n"
     ]
    },
    {
     "name": "stdout",
     "output_type": "stream",
     "text": [
      "Resolving ds4se100.github.io (ds4se100.github.io)... 185.199.111.153, 185.199.109.153, 185.199.108.153, ...\n",
      "Connecting to ds4se100.github.io (ds4se100.github.io)|185.199.111.153|:443... connected.\n",
      "HTTP request sent, awaiting response... 200 OK\n",
      "Length: 1734 (1.7K) [text/plain]\n",
      "Saving to: ‘wws2025cfp.txt’\n",
      "\n",
      "wws2025cfp.txt      100%[===================>]   1.69K  --.-KB/s    in 0s      \n",
      "\n",
      "2025-02-10 21:24:17 (42.1 MB/s) - ‘wws2025cfp.txt’ saved [1734/1734]\n",
      "\n"
     ]
    }
   ],
   "source": [
    "# !wget https://ds4se100.github.io/basic/1.string-manipulation/data/wws2025cfp.txt"
   ]
  },
  {
   "cell_type": "markdown",
   "metadata": {},
   "source": [
    "`ex11.py`:\n",
    "\n",
    "```py\n",
    "import argparse\n",
    "import colorama\n",
    "from colorama import Fore, Style\n",
    "\n",
    "colorama.init(autoreset=True)\n",
    "\n",
    "def parse_args():\n",
    "    parser = argparse.ArgumentParser(description=\"Search for lines containing a target string in a file.\")\n",
    "    parser.add_argument(\"--file\", type=str, help=\"Path to the input file.\")\n",
    "    parser.add_argument(\"--tgt\", type=str, help=\"Target string to search for in the file.\")\n",
    "    return parser.parse_args()\n",
    "    \n",
    "def grep(file, tgt):\n",
    "    with open(file, 'r', encoding='utf-8') as f:\n",
    "        for i, line in enumerate(f, start=1):\n",
    "            if tgt in line:\n",
    "                highlighted = line.replace(tgt, f\"{Fore.RED}{tgt}{Style.RESET_ALL}\")\n",
    "                print(f\"Line {i}: {highlighted}\", end='')\n",
    "\n",
    "def main():\n",
    "    args = parse_args()\n",
    "    grep(args.file, args.tgt)\n",
    "    \n",
    "if __name__ == \"__main__\":\n",
    "    main()\n",
    "```"
   ]
  },
  {
   "cell_type": "code",
   "execution_count": 9,
   "metadata": {},
   "outputs": [
    {
     "name": "stdout",
     "output_type": "stream",
     "text": [
      "Collecting colorama\n",
      "  Downloading colorama-0.4.6-py2.py3-none-any.whl.metadata (17 kB)\n",
      "Downloading colorama-0.4.6-py2.py3-none-any.whl (25 kB)\n",
      "Installing collected packages: colorama\n",
      "Successfully installed colorama-0.4.6\n"
     ]
    }
   ],
   "source": [
    "# !pip install colorama"
   ]
  },
  {
   "cell_type": "code",
   "execution_count": 10,
   "metadata": {},
   "outputs": [
    {
     "name": "stdout",
     "output_type": "stream",
     "text": [
      "Line 4: \u001b[31mソフトウェア工学\u001b[0m分野でもこれらを活用した研究や取り組みは多く，多岐に渡る．\n",
      "\u001b[0m\u001b[0mLine 7: 本セッションでは\u001b[31mソフトウェア工学\u001b[0m分野におけるデータの分析や活用に関する基礎技術を学ぶための教材として\n",
      "\u001b[0m\u001b[0mLine 8: 「\u001b[31mソフトウェア工学\u001b[0mのためのデータサイエンス 100 本ノック（仮称）」 を構築する共同作業の場を提供したい．\n",
      "\u001b[0m\u001b[0m\u001b[0m"
     ]
    }
   ],
   "source": [
    "!python3 ex11.py --file wws2025cfp.txt --tgt ソフトウェア工学"
   ]
  },
  {
   "cell_type": "code",
   "execution_count": null,
   "metadata": {},
   "outputs": [],
   "source": []
  }
 ],
 "metadata": {
  "kernelspec": {
   "display_name": "venv",
   "language": "python",
   "name": "python3"
  },
  "language_info": {
   "codemirror_mode": {
    "name": "ipython",
    "version": 3
   },
   "file_extension": ".py",
   "mimetype": "text/x-python",
   "name": "python",
   "nbconvert_exporter": "python",
   "pygments_lexer": "ipython3",
   "version": "3.12.3"
  }
 },
 "nbformat": 4,
 "nbformat_minor": 2
}
