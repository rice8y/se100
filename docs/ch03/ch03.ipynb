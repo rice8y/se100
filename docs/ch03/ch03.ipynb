{
 "cells": [
  {
   "cell_type": "markdown",
   "metadata": {},
   "source": [
    "# 基本編4: 仮想環境(Python)\n",
    "## 41. 特定versionのpythonの環境を作る\n",
    "特定versionのpython環境を作成しなさい. また, それとは異なるversionのpython環境を作成しなさい."
   ]
  },
  {
   "cell_type": "code",
   "execution_count": null,
   "metadata": {
    "vscode": {
     "languageId": "plaintext"
    }
   },
   "outputs": [],
   "source": [
    "!uv venv py-3.12 --python 3.12\n",
    "!. py-3.12/bin/activate && python --version"
   ]
  },
  {
   "cell_type": "code",
   "execution_count": null,
   "metadata": {
    "vscode": {
     "languageId": "plaintext"
    }
   },
   "outputs": [],
   "source": [
    "!deactivate\n",
    "!uv venv py-3.13 --python 3.13\n",
    "!. py-3.13/bin/activate && python --version"
   ]
  },
  {
   "cell_type": "markdown",
   "metadata": {},
   "source": [
    "## 42. 特定バージョンのライブラリをインストール\n",
    "最新版ではない特定バージョンのpythonライブラリをインストールして, そのバージョンがインストールされたことを確認しなさい. (発展: githubで公開されているpythonライブラリの特定コミット時点のものをインストールしなさい. 例: [https://github.com/tweepy/tweepy](https://github.com/tweepy/tweepy))"
   ]
  },
  {
   "cell_type": "code",
   "execution_count": null,
   "metadata": {},
   "outputs": [],
   "source": [
    "!pip index versions nvitop"
   ]
  },
  {
   "cell_type": "code",
   "execution_count": null,
   "metadata": {},
   "outputs": [],
   "source": [
    "!pip install nvitop==1.4.0"
   ]
  },
  {
   "cell_type": "code",
   "execution_count": null,
   "metadata": {},
   "outputs": [],
   "source": [
    "!nvitop --version"
   ]
  },
  {
   "cell_type": "code",
   "execution_count": null,
   "metadata": {},
   "outputs": [],
   "source": [
    "!pip install git+https://github.com/XuehaiPan/nvitop.git@ec53de75b4579c319eb6e6b5c1e906d5cb90b561"
   ]
  },
  {
   "cell_type": "code",
   "execution_count": null,
   "metadata": {},
   "outputs": [],
   "source": [
    "!nvitop --version"
   ]
  }
 ],
 "metadata": {
  "language_info": {
   "name": "python"
  }
 },
 "nbformat": 4,
 "nbformat_minor": 2
}
